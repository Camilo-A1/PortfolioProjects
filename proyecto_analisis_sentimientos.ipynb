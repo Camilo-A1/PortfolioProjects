{
 "cells": [
  {
   "cell_type": "markdown",
   "source": [
    "\n",
    "## Preprocesamiento de Datos"
   ],
   "metadata": {
    "collapsed": false
   }
  },
  {
   "cell_type": "code",
   "execution_count": 1,
   "outputs": [],
   "source": [
    "# Se importan librerías\n",
    "import pandas as pd\n",
    "import numpy as np\n",
    "import nltk\n",
    "import spacy\n",
    "from nltk.corpus import stopwords\n",
    "from nltk.tokenize import RegexpTokenizer\n",
    "from nltk.stem import WordNetLemmatizer, SnowballStemmer\n",
    "import matplotlib.pyplot as plt\n",
    "import seaborn as sns\n",
    "from sklearn.ensemble import RandomForestClassifier\n",
    "from sklearn.metrics import accuracy_score, precision_score, recall_score, f1_score, confusion_matrix, classification_report\n",
    "from sklearn.model_selection import train_test_split, GridSearchCV, cross_val_predict\n",
    "from sklearn.feature_extraction.text import TfidfVectorizer\n",
    "from sklearn.preprocessing import LabelEncoder"
   ],
   "metadata": {
    "collapsed": false,
    "ExecuteTime": {
     "end_time": "2023-07-31T03:12:24.589323800Z",
     "start_time": "2023-07-31T03:12:17.458218500Z"
    }
   }
  },
  {
   "cell_type": "code",
   "execution_count": 2,
   "outputs": [],
   "source": [
    "# Modelo en español de spaCy\n",
    "nlp = spacy.load('es_core_news_sm')\n",
    "\n",
    "# Lectura de los datos\n",
    "data = pd.read_csv('comentarios.csv', sep=',')\n",
    "comentarios = ' '.join(data['comentario'])"
   ],
   "metadata": {
    "collapsed": false,
    "ExecuteTime": {
     "end_time": "2023-07-31T03:12:25.124228100Z",
     "start_time": "2023-07-31T03:12:24.601581500Z"
    }
   }
  },
  {
   "cell_type": "markdown",
   "source": [
    "### Limpieza, tokenización y reducción del vocabulario"
   ],
   "metadata": {
    "collapsed": false
   }
  },
  {
   "cell_type": "code",
   "execution_count": 3,
   "outputs": [],
   "source": [
    "# Función para limpieza y tokenización\n",
    "def limpiar_tokenizar(text):\n",
    "    # Patrón de expresión regular para tokenización\n",
    "    pattern = '\\w+|:\\)|:\\(|[^.,;\\s]'\n",
    "    # Tokenización utilizando RegexpTokenizer\n",
    "    tokenizer = RegexpTokenizer(pattern)\n",
    "    tokens = tokenizer.tokenize(text)\n",
    "    # Limpieza de tokens\n",
    "    stop_words = set(stopwords.words('spanish'))\n",
    "    tokens = [token.lower() for token in tokens if token.lower() not in stop_words]\n",
    "    return tokens"
   ],
   "metadata": {
    "collapsed": false,
    "ExecuteTime": {
     "end_time": "2023-07-31T03:12:25.176850Z",
     "start_time": "2023-07-31T03:12:25.136369Z"
    }
   }
  },
  {
   "cell_type": "code",
   "execution_count": 4,
   "outputs": [],
   "source": [
    "# Función para lematizar tokens\n",
    "def lematizar_texto(tokens):\n",
    "    lemas = []\n",
    "    for token in tokens:\n",
    "        doc = nlp(token)\n",
    "        lemas.append(doc[0].lemma_)\n",
    "    return lemas\n",
    "\n",
    "# Función para stemming tokens\n",
    "def stem_texto(tokens):\n",
    "    stemmer = SnowballStemmer('spanish')\n",
    "    raices = [stemmer.stem(token) for token in tokens]\n",
    "    return raices"
   ],
   "metadata": {
    "collapsed": false,
    "ExecuteTime": {
     "end_time": "2023-07-31T03:12:25.194810600Z",
     "start_time": "2023-07-31T03:12:25.158755300Z"
    }
   }
  },
  {
   "cell_type": "code",
   "execution_count": 5,
   "outputs": [],
   "source": [
    "# Se aplican las funciones a data\n",
    "data['tokens'] = data['comentario'].apply(limpiar_tokenizar)\n",
    "data['lemas'] = data['tokens'].apply(lematizar_texto)\n",
    "data['raices'] = data['tokens'].apply(stem_texto)"
   ],
   "metadata": {
    "collapsed": false,
    "ExecuteTime": {
     "end_time": "2023-07-31T03:12:56.001723600Z",
     "start_time": "2023-07-31T03:12:25.190930200Z"
    }
   }
  },
  {
   "cell_type": "code",
   "execution_count": 6,
   "outputs": [
    {
     "data": {
      "text/plain": "   orden                                         comentario   tipo  \\\n0      1                                No les creo nada ,    malo   \n1      2                          Está bonita la camioneta   bueno   \n2      3                             Quiero más información   info   \n3      4            :( igual el crédito ha de ser muuuucho    malo   \n4      5  Quisiera, más información, pero nadie me respo...   info   \n\n                                     tokens  \\\n0                                    [creo]   \n1                       [bonita, camioneta]   \n2                     [quiero, información]   \n3       [:(, igual, crédito, ser, muuuucho]   \n4  [quisiera, información, nadie, responde]   \n\n                                     lemas                             raices  \n0                                  [creer]                              [cre]  \n1                      [bonito, camioneta]                  [bonit, camionet]  \n2                    [querer, información]                    [quier, inform]  \n3      [:(, igual, crédito, ser, muuuucho]  [:(, igual, credit, ser, muuuuch]  \n4  [querer, información, nadie, responder]      [quis, inform, nadi, respond]  ",
      "text/html": "<div>\n<style scoped>\n    .dataframe tbody tr th:only-of-type {\n        vertical-align: middle;\n    }\n\n    .dataframe tbody tr th {\n        vertical-align: top;\n    }\n\n    .dataframe thead th {\n        text-align: right;\n    }\n</style>\n<table border=\"1\" class=\"dataframe\">\n  <thead>\n    <tr style=\"text-align: right;\">\n      <th></th>\n      <th>orden</th>\n      <th>comentario</th>\n      <th>tipo</th>\n      <th>tokens</th>\n      <th>lemas</th>\n      <th>raices</th>\n    </tr>\n  </thead>\n  <tbody>\n    <tr>\n      <th>0</th>\n      <td>1</td>\n      <td>No les creo nada ,</td>\n      <td>malo</td>\n      <td>[creo]</td>\n      <td>[creer]</td>\n      <td>[cre]</td>\n    </tr>\n    <tr>\n      <th>1</th>\n      <td>2</td>\n      <td>Está bonita la camioneta</td>\n      <td>bueno</td>\n      <td>[bonita, camioneta]</td>\n      <td>[bonito, camioneta]</td>\n      <td>[bonit, camionet]</td>\n    </tr>\n    <tr>\n      <th>2</th>\n      <td>3</td>\n      <td>Quiero más información</td>\n      <td>info</td>\n      <td>[quiero, información]</td>\n      <td>[querer, información]</td>\n      <td>[quier, inform]</td>\n    </tr>\n    <tr>\n      <th>3</th>\n      <td>4</td>\n      <td>:( igual el crédito ha de ser muuuucho</td>\n      <td>malo</td>\n      <td>[:(, igual, crédito, ser, muuuucho]</td>\n      <td>[:(, igual, crédito, ser, muuuucho]</td>\n      <td>[:(, igual, credit, ser, muuuuch]</td>\n    </tr>\n    <tr>\n      <th>4</th>\n      <td>5</td>\n      <td>Quisiera, más información, pero nadie me respo...</td>\n      <td>info</td>\n      <td>[quisiera, información, nadie, responde]</td>\n      <td>[querer, información, nadie, responder]</td>\n      <td>[quis, inform, nadi, respond]</td>\n    </tr>\n  </tbody>\n</table>\n</div>"
     },
     "execution_count": 6,
     "metadata": {},
     "output_type": "execute_result"
    }
   ],
   "source": [
    "# Se visualiza data incluyendo tokens, lemas y raices\n",
    "data.head()"
   ],
   "metadata": {
    "collapsed": false,
    "ExecuteTime": {
     "end_time": "2023-07-31T03:12:56.090152Z",
     "start_time": "2023-07-31T03:12:56.004197200Z"
    }
   }
  },
  {
   "cell_type": "markdown",
   "source": [
    "### División de la muestra en entrenamiento y test"
   ],
   "metadata": {
    "collapsed": false
   }
  },
  {
   "cell_type": "code",
   "execution_count": 7,
   "outputs": [],
   "source": [
    "X = data.drop('tipo', axis=1)\n",
    "y = data['tipo']\n",
    "X_train, X_test, y_train, y_test = train_test_split(X, y, test_size=0.2, random_state=42)\n",
    "\n",
    "data_train = pd.concat([X_train, y_train], axis=1)\n",
    "data_test = pd.concat([X_test, y_test], axis=1)"
   ],
   "metadata": {
    "collapsed": false,
    "ExecuteTime": {
     "end_time": "2023-07-31T03:12:56.138101300Z",
     "start_time": "2023-07-31T03:12:56.087751700Z"
    }
   }
  },
  {
   "cell_type": "code",
   "execution_count": 8,
   "outputs": [
    {
     "name": "stdout",
     "output_type": "stream",
     "text": [
      "data_train tiene 480 registros y 6 columnas.\n",
      "data_test tiene 120 registros y 6 columnas.\n"
     ]
    }
   ],
   "source": [
    "# Cantidad de registros para train y test\n",
    "print(\"data_train tiene\", data_train.shape[0], \"registros y\", data_train.shape[1], \"columnas.\")\n",
    "print(\"data_test tiene\", data_test.shape[0], \"registros y\", data_test.shape[1], \"columnas.\")"
   ],
   "metadata": {
    "collapsed": false,
    "ExecuteTime": {
     "end_time": "2023-07-31T03:12:56.254081400Z",
     "start_time": "2023-07-31T03:12:56.134480500Z"
    }
   }
  },
  {
   "cell_type": "markdown",
   "source": [
    "### Distribución del target según muestra, train y test"
   ],
   "metadata": {
    "collapsed": false
   }
  },
  {
   "cell_type": "code",
   "execution_count": 9,
   "outputs": [
    {
     "data": {
      "text/plain": "<Figure size 1500x400 with 3 Axes>",
      "image/png": "[encoded data removed]"
     },
     "metadata": {},
     "output_type": "display_data"
    }
   ],
   "source": [
    "# Calcular porcentajes de muestra\n",
    "data_total = len(data)\n",
    "data_counts = data['tipo'].value_counts()\n",
    "data_porcentaje = data_counts / data_total * 100\n",
    "\n",
    "# Calcular porcentajes de train\n",
    "train_total = len(data_train)\n",
    "train_counts = data_train['tipo'].value_counts()\n",
    "train_porcentaje = train_counts / train_total * 100\n",
    "\n",
    "# Calcular porcentajes de test\n",
    "test_total = len(data_test)\n",
    "test_counts = data_test['tipo'].value_counts()\n",
    "test_porcentaje = test_counts / test_total * 100\n",
    "\n",
    "# Figura, subplots y colores para cada categoría\n",
    "fig, (ax1, ax2, ax3) = plt.subplots(1, 3, figsize=(15, 4))\n",
    "colors = {'malo': 'red', 'bueno': 'blue', 'info': 'gray'}\n",
    "\n",
    "# Gráfico de barras para muestra\n",
    "x_data = range(len(data_porcentaje))\n",
    "ax1.bar(x_data, data_porcentaje, align='center', color=[colors.get(t, 'gray') for t in data_porcentaje.index])\n",
    "ax1.set_title('Porcentajes del target en Data')\n",
    "ax1.set_xticks(x_data)\n",
    "ax1.set_xticklabels(data_porcentaje.index)\n",
    "for i, percentage in enumerate(data_porcentaje):\n",
    "    ax1.text(i, percentage, f'{percentage:.1f}%', ha='center', va='bottom')\n",
    "\n",
    "# Gráfico de barras para train\n",
    "x_train = range(len(train_porcentaje))\n",
    "ax2.bar(x_train, train_porcentaje, align='center', color=[colors.get(t, 'gray') for t in train_porcentaje.index])\n",
    "ax2.set_title('Porcentajes del target en Train')\n",
    "ax2.set_xticks(x_train)\n",
    "ax2.set_xticklabels(train_porcentaje.index)\n",
    "for i, percentage in enumerate(train_porcentaje):\n",
    "    ax2.text(i, percentage, f'{percentage:.1f}%', ha='center', va='bottom')\n",
    "\n",
    "# Gráfico de barras para test\n",
    "x_test = range(len(test_porcentaje))\n",
    "ax3.bar(x_test, test_porcentaje, align='center', color=[colors.get(t, 'gray') for t in test_porcentaje.index])\n",
    "ax3.set_title('Porcentajes del target en Test')\n",
    "ax3.set_xticks(x_test)\n",
    "ax3.set_xticklabels(test_porcentaje.index)\n",
    "for i, percentage in enumerate(test_porcentaje):\n",
    "    ax3.text(i, percentage, f'{percentage:.1f}%', ha='center', va='bottom')\n",
    "\n",
    "plt.tight_layout()\n",
    "plt.show()"
   ],
   "metadata": {
    "collapsed": false,
    "ExecuteTime": {
     "end_time": "2023-07-31T03:12:58.824324800Z",
     "start_time": "2023-07-31T03:12:56.196776400Z"
    }
   }
  },
  {
   "cell_type": "markdown",
   "source": [
    "### Representación Vectorial"
   ],
   "metadata": {
    "collapsed": false
   }
  },
  {
   "cell_type": "code",
   "execution_count": 10,
   "outputs": [
    {
     "name": "stdout",
     "output_type": "stream",
     "text": [
      "<class 'pandas.core.frame.DataFrame'>\n",
      "RangeIndex: 600 entries, 0 to 599\n",
      "Data columns (total 6 columns):\n",
      " #   Column      Non-Null Count  Dtype \n",
      "---  ------      --------------  ----- \n",
      " 0   orden       600 non-null    int64 \n",
      " 1   comentario  600 non-null    object\n",
      " 2   tipo        600 non-null    object\n",
      " 3   tokens      600 non-null    object\n",
      " 4   lemas       600 non-null    object\n",
      " 5   raices      600 non-null    object\n",
      "dtypes: int64(1), object(5)\n",
      "memory usage: 28.2+ KB\n"
     ]
    }
   ],
   "source": [
    "# Se analizan los tipos de datos para adaptarse al modelo\n",
    "data.info()"
   ],
   "metadata": {
    "collapsed": false,
    "ExecuteTime": {
     "end_time": "2023-07-31T03:12:58.889674Z",
     "start_time": "2023-07-31T03:12:58.810237300Z"
    }
   }
  },
  {
   "cell_type": "code",
   "execution_count": 11,
   "outputs": [],
   "source": [
    "# Convertir object a string\n",
    "data['tokens'] = data['tokens'].apply(lambda x: ' '.join(x))\n",
    "data['lemas'] = data['lemas'].apply(lambda x: ' '.join(x))\n",
    "data['raices'] = data['raices'].apply(lambda x: ' '.join(x))\n",
    "\n",
    "# Unir\n",
    "data['texto_combinado'] = data['tokens'] + ' ' + data['lemas'] + ' ' + data['raices']"
   ],
   "metadata": {
    "collapsed": false,
    "ExecuteTime": {
     "end_time": "2023-07-31T03:12:59.222273100Z",
     "start_time": "2023-07-31T03:12:58.884779500Z"
    }
   }
  },
  {
   "cell_type": "code",
   "execution_count": 12,
   "outputs": [
    {
     "data": {
      "text/plain": "   orden                                         comentario   tipo  \\\n0      1                                No les creo nada ,    malo   \n1      2                          Está bonita la camioneta   bueno   \n2      3                             Quiero más información   info   \n3      4            :( igual el crédito ha de ser muuuucho    malo   \n4      5  Quisiera, más información, pero nadie me respo...   info   \n\n                                tokens                               lemas  \\\n0                                 creo                               creer   \n1                     bonita camioneta                    bonito camioneta   \n2                   quiero información                  querer información   \n3        :( igual crédito ser muuuucho       :( igual crédito ser muuuucho   \n4  quisiera información nadie responde  querer información nadie responder   \n\n                        raices  \\\n0                          cre   \n1               bonit camionet   \n2                 quier inform   \n3  :( igual credit ser muuuuch   \n4     quis inform nadi respond   \n\n                                     texto_combinado  \n0                                     creo creer cre  \n1   bonita camioneta bonito camioneta bonit camionet  \n2  quiero información querer información quier in...  \n3  :( igual crédito ser muuuucho :( igual crédito...  \n4  quisiera información nadie responde querer inf...  ",
      "text/html": "<div>\n<style scoped>\n    .dataframe tbody tr th:only-of-type {\n        vertical-align: middle;\n    }\n\n    .dataframe tbody tr th {\n        vertical-align: top;\n    }\n\n    .dataframe thead th {\n        text-align: right;\n    }\n</style>\n<table border=\"1\" class=\"dataframe\">\n  <thead>\n    <tr style=\"text-align: right;\">\n      <th></th>\n      <th>orden</th>\n      <th>comentario</th>\n      <th>tipo</th>\n      <th>tokens</th>\n      <th>lemas</th>\n      <th>raices</th>\n      <th>texto_combinado</th>\n    </tr>\n  </thead>\n  <tbody>\n    <tr>\n      <th>0</th>\n      <td>1</td>\n      <td>No les creo nada ,</td>\n      <td>malo</td>\n      <td>creo</td>\n      <td>creer</td>\n      <td>cre</td>\n      <td>creo creer cre</td>\n    </tr>\n    <tr>\n      <th>1</th>\n      <td>2</td>\n      <td>Está bonita la camioneta</td>\n      <td>bueno</td>\n      <td>bonita camioneta</td>\n      <td>bonito camioneta</td>\n      <td>bonit camionet</td>\n      <td>bonita camioneta bonito camioneta bonit camionet</td>\n    </tr>\n    <tr>\n      <th>2</th>\n      <td>3</td>\n      <td>Quiero más información</td>\n      <td>info</td>\n      <td>quiero información</td>\n      <td>querer información</td>\n      <td>quier inform</td>\n      <td>quiero información querer información quier in...</td>\n    </tr>\n    <tr>\n      <th>3</th>\n      <td>4</td>\n      <td>:( igual el crédito ha de ser muuuucho</td>\n      <td>malo</td>\n      <td>:( igual crédito ser muuuucho</td>\n      <td>:( igual crédito ser muuuucho</td>\n      <td>:( igual credit ser muuuuch</td>\n      <td>:( igual crédito ser muuuucho :( igual crédito...</td>\n    </tr>\n    <tr>\n      <th>4</th>\n      <td>5</td>\n      <td>Quisiera, más información, pero nadie me respo...</td>\n      <td>info</td>\n      <td>quisiera información nadie responde</td>\n      <td>querer información nadie responder</td>\n      <td>quis inform nadi respond</td>\n      <td>quisiera información nadie responde querer inf...</td>\n    </tr>\n  </tbody>\n</table>\n</div>"
     },
     "execution_count": 12,
     "metadata": {},
     "output_type": "execute_result"
    }
   ],
   "source": [
    "data.head()"
   ],
   "metadata": {
    "collapsed": false,
    "ExecuteTime": {
     "end_time": "2023-07-31T03:12:59.223998Z",
     "start_time": "2023-07-31T03:12:58.919778900Z"
    }
   }
  },
  {
   "cell_type": "code",
   "execution_count": 13,
   "outputs": [],
   "source": [
    "# Realizar la representación vectorial\n",
    "tfidf = TfidfVectorizer(token_pattern=r'\\w+|:\\)|:\\(|[^.,;\\s]')\n",
    "tfidf_X = tfidf.fit_transform(data['texto_combinado'])\n",
    "\n",
    "# Transformar target a valores\n",
    "label_encoder = LabelEncoder()\n",
    "y_encoded = label_encoder.fit_transform(data['tipo'])"
   ],
   "metadata": {
    "collapsed": false,
    "ExecuteTime": {
     "end_time": "2023-07-31T03:12:59.224510200Z",
     "start_time": "2023-07-31T03:12:58.993789400Z"
    }
   }
  },
  {
   "cell_type": "code",
   "execution_count": 14,
   "outputs": [
    {
     "name": "stdout",
     "output_type": "stream",
     "text": [
      "       !    $    %    (    )    +  000  000km    1   10  ...   ús    …    ❣  \\\n",
      "0    0.0  0.0  0.0  0.0  0.0  0.0  0.0    0.0  0.0  0.0  ...  0.0  0.0  0.0   \n",
      "1    0.0  0.0  0.0  0.0  0.0  0.0  0.0    0.0  0.0  0.0  ...  0.0  0.0  0.0   \n",
      "2    0.0  0.0  0.0  0.0  0.0  0.0  0.0    0.0  0.0  0.0  ...  0.0  0.0  0.0   \n",
      "3    0.0  0.0  0.0  0.0  0.0  0.0  0.0    0.0  0.0  0.0  ...  0.0  0.0  0.0   \n",
      "4    0.0  0.0  0.0  0.0  0.0  0.0  0.0    0.0  0.0  0.0  ...  0.0  0.0  0.0   \n",
      "..   ...  ...  ...  ...  ...  ...  ...    ...  ...  ...  ...  ...  ...  ...   \n",
      "595  0.0  0.0  0.0  0.0  0.0  0.0  0.0    0.0  0.0  0.0  ...  0.0  0.0  0.0   \n",
      "596  0.0  0.0  0.0  0.0  0.0  0.0  0.0    0.0  0.0  0.0  ...  0.0  0.0  0.0   \n",
      "597  0.0  0.0  0.0  0.0  0.0  0.0  0.0    0.0  0.0  0.0  ...  0.0  0.0  0.0   \n",
      "598  0.0  0.0  0.0  0.0  0.0  0.0  0.0    0.0  0.0  0.0  ...  0.0  0.0  0.0   \n",
      "599  0.0  0.0  0.0  0.0  0.0  0.0  0.0    0.0  0.0  0.0  ...  0.0  0.0  0.0   \n",
      "\n",
      "       ❤    💯    😅    😍    🙂    🤣    🥰  \n",
      "0    0.0  0.0  0.0  0.0  0.0  0.0  0.0  \n",
      "1    0.0  0.0  0.0  0.0  0.0  0.0  0.0  \n",
      "2    0.0  0.0  0.0  0.0  0.0  0.0  0.0  \n",
      "3    0.0  0.0  0.0  0.0  0.0  0.0  0.0  \n",
      "4    0.0  0.0  0.0  0.0  0.0  0.0  0.0  \n",
      "..   ...  ...  ...  ...  ...  ...  ...  \n",
      "595  0.0  0.0  0.0  0.0  0.0  0.0  0.0  \n",
      "596  0.0  0.0  0.0  0.0  0.0  0.0  0.0  \n",
      "597  0.0  0.0  0.0  0.0  0.0  0.0  0.0  \n",
      "598  0.0  0.0  0.0  0.0  0.0  0.0  0.0  \n",
      "599  0.0  0.0  0.0  0.0  0.0  0.0  0.0  \n",
      "\n",
      "[600 rows x 583 columns]\n",
      "\n",
      "La forma de la matriz TF-IDF es: (600, 583)\n"
     ]
    }
   ],
   "source": [
    "feature_names = tfidf.get_feature_names_out()\n",
    "\n",
    "# Se crea un DataFrame para mostrar la matriz tf-idf\n",
    "tfidf_df = pd.DataFrame(np.round(tfidf_X.toarray(), 3), columns=feature_names)\n",
    "\n",
    "print(tfidf_df)\n",
    "print('\\nLa forma de la matriz TF-IDF es:', tfidf_X.shape)"
   ],
   "metadata": {
    "collapsed": false,
    "ExecuteTime": {
     "end_time": "2023-07-31T03:12:59.225042300Z",
     "start_time": "2023-07-31T03:12:59.052718Z"
    }
   }
  },
  {
   "cell_type": "markdown",
   "source": [
    "### Random Forest\n",
    "\n",
    "Se implementará una estrategia combinada que integre el modelo Random Forest con GridSearchCV y k-Folds para asegurar el máximo rendimiento. Al ajustar los hiperparámetros y validar el modelo, se garantiza una clasificación precisa y con capacidad de generalización en diversos escenarios. "
   ],
   "metadata": {
    "collapsed": false
   }
  },
  {
   "cell_type": "code",
   "execution_count": 15,
   "outputs": [],
   "source": [
    "# Se divide el conjunto de datos vectorizado en conjuntos de entrenamiento y prueba\n",
    "X_train, X_test, y_train, y_test = train_test_split(tfidf_X, y_encoded, test_size=0.2, random_state=42)"
   ],
   "metadata": {
    "collapsed": false,
    "ExecuteTime": {
     "end_time": "2023-07-31T03:12:59.225042300Z",
     "start_time": "2023-07-31T03:12:59.123756900Z"
    }
   }
  },
  {
   "cell_type": "code",
   "execution_count": 16,
   "outputs": [],
   "source": [
    "# Se crea el modelo Random Forest con el que trabajaremos\n",
    "random_forest_model = RandomForestClassifier()\n",
    "\n",
    "# Se definen los hiperparámetros a ajustar con GridSearchCV\n",
    "param_grid = {\n",
    "    'n_estimators': [100, 200, 300],\n",
    "    'max_depth': [None, 10, 20, 30]\n",
    "}\n",
    "\n",
    "# Se crea el objeto GridSearchCV con k-Fold Cross Validation\n",
    "grid_search = GridSearchCV(random_forest_model, param_grid, cv=5, scoring='accuracy')\n",
    "\n",
    "# Se realiza Validación cruzada con GridSearchCV para obtener el mejor modelo con los mejores hiperparámetros\n",
    "grid_search.fit(tfidf_X, y_encoded)\n",
    "\n",
    "# Mejores hiperparámetros\n",
    "best_random_forest_model = grid_search.best_estimator_\n",
    "\n",
    "# Se realizan predicciones en el conjunto completo utilizando el mejor modelo\n",
    "y_pred_cv = cross_val_predict(best_random_forest_model, tfidf_X, y_encoded, cv=5)\n",
    "\n",
    "# Matriz de confusión\n",
    "confusion = confusion_matrix(y_encoded, y_pred_cv)"
   ],
   "metadata": {
    "collapsed": false,
    "ExecuteTime": {
     "end_time": "2023-07-31T03:14:04.072051400Z",
     "start_time": "2023-07-31T03:12:59.159436400Z"
    }
   }
  },
  {
   "cell_type": "markdown",
   "source": [
    "### Resultados"
   ],
   "metadata": {
    "collapsed": false
   }
  },
  {
   "cell_type": "code",
   "execution_count": 17,
   "outputs": [
    {
     "name": "stdout",
     "output_type": "stream",
     "text": [
      "Matriz de Confusión:\n",
      "[[222   0   0]\n",
      " [  0 108   0]\n",
      " [  0   0 270]]\n",
      "\n",
      "Acuracidad: 100.00%\n",
      "Precisión: 100.00%\n",
      "Recall: 100.00%\n",
      "Puntuación F1: 100.00%\n"
     ]
    }
   ],
   "source": [
    "# Métricas de desempeño\n",
    "accuracy = accuracy_score(y_encoded, y_pred_cv)\n",
    "precision = precision_score(y_encoded, y_pred_cv, average='weighted')\n",
    "recall = recall_score(y_encoded, y_pred_cv, average='weighted')\n",
    "f1 = f1_score(y_encoded, y_pred_cv, average='weighted')\n",
    "\n",
    "# Resultados\n",
    "print(\"Matriz de Confusión:\")\n",
    "print(confusion)\n",
    "print(\"\\nAcuracidad: {:.2f}%\".format(accuracy * 100))\n",
    "print(\"Precisión: {:.2f}%\".format(precision * 100))\n",
    "print(\"Recall: {:.2f}%\".format(recall * 100))\n",
    "print(\"Puntuación F1: {:.2f}%\".format(f1 * 100))"
   ],
   "metadata": {
    "collapsed": false,
    "ExecuteTime": {
     "end_time": "2023-07-31T03:14:04.204855900Z",
     "start_time": "2023-07-31T03:14:04.070460500Z"
    }
   }
  },
  {
   "cell_type": "code",
   "execution_count": 18,
   "outputs": [
    {
     "name": "stdout",
     "output_type": "stream",
     "text": [
      "Informe de Clasificación:\n",
      "              precision    recall  f1-score   support\n",
      "\n",
      "       bueno       1.00      1.00      1.00       222\n",
      "        info       1.00      1.00      1.00       108\n",
      "        malo       1.00      1.00      1.00       270\n",
      "\n",
      "    accuracy                           1.00       600\n",
      "   macro avg       1.00      1.00      1.00       600\n",
      "weighted avg       1.00      1.00      1.00       600\n"
     ]
    }
   ],
   "source": [
    "# Informe de clasificación\n",
    "class_names = label_encoder.classes_\n",
    "report = classification_report(y_encoded, y_pred_cv, target_names=class_names)\n",
    "print(\"Informe de Clasificación:\")\n",
    "print(report)"
   ],
   "metadata": {
    "collapsed": false,
    "ExecuteTime": {
     "end_time": "2023-07-31T03:14:04.206442600Z",
     "start_time": "2023-07-31T03:14:04.122999900Z"
    }
   }
  },
  {
   "cell_type": "code",
   "execution_count": 19,
   "outputs": [
    {
     "data": {
      "text/plain": "<Figure size 800x600 with 2 Axes>",
      "image/png": "[encoded data removed]"
     },
     "metadata": {},
     "output_type": "display_data"
    }
   ],
   "source": [
    "# Heatmap para matriz de confusión\n",
    "plt.figure(figsize=(8, 6))\n",
    "sns.heatmap(confusion, annot=True, fmt='d', cmap='Blues', xticklabels=class_names, yticklabels=class_names)\n",
    "plt.xlabel('Predicho')\n",
    "plt.ylabel('Verdadero')\n",
    "plt.title('Matriz de Confusión')\n",
    "plt.show()"
   ],
   "metadata": {
    "collapsed": false,
    "ExecuteTime": {
     "end_time": "2023-07-31T03:14:04.932225500Z",
     "start_time": "2023-07-31T03:14:04.176270200Z"
    }
   }
  },
  {
   "cell_type": "markdown",
   "source": [
    "### Conclusiones\n",
    "\n",
    "El modelo de clasificación Random Forest ha logrado un rendimiento perfecto en la clasificación de comentarios. La matriz de confusión muestra clasificaciones precisas sin errores. Esto sugiere una excelente capacidad para generalizar en este conjunto de datos. Se debería explorar su rendimiento en datos más grandes y variados para una evaluación completa."
   ],
   "metadata": {
    "collapsed": false
   }
  },
  {
   "cell_type": "markdown",
   "source": [],
   "metadata": {
    "collapsed": false
   }
  }
 ],
 "metadata": {
  "kernelspec": {
   "display_name": "Python 3",
   "language": "python",
   "name": "python3"
  },
  "language_info": {
   "codemirror_mode": {
    "name": "ipython",
    "version": 2
   },
   "file_extension": ".py",
   "mimetype": "text/x-python",
   "name": "python",
   "nbconvert_exporter": "python",
   "pygments_lexer": "ipython2",
   "version": "2.7.6"
  }
 },
 "nbformat": 4,
 "nbformat_minor": 0
}
