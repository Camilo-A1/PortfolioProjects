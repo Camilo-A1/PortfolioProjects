{
 "cells": [
  {
   "cell_type": "code",
   "execution_count": 122,
   "id": "627c05c3",
   "metadata": {},
   "outputs": [],
   "source": [
    "# Se importan las librerias a utilizar.\n",
    "\n",
    "import numpy as np\n",
    "import pandas as pd\n",
    "import matplotlib.pyplot as plt\n",
    "import seaborn as sns"
   ]
  },
  {
   "cell_type": "code",
   "execution_count": 123,
   "id": "dbe36103",
   "metadata": {},
   "outputs": [
    {
     "data": {
      "text/html": [
       "<div>\n",
       "<style scoped>\n",
       "    .dataframe tbody tr th:only-of-type {\n",
       "        vertical-align: middle;\n",
       "    }\n",
       "\n",
       "    .dataframe tbody tr th {\n",
       "        vertical-align: top;\n",
       "    }\n",
       "\n",
       "    .dataframe thead th {\n",
       "        text-align: right;\n",
       "    }\n",
       "</style>\n",
       "<table border=\"1\" class=\"dataframe\">\n",
       "  <thead>\n",
       "    <tr style=\"text-align: right;\">\n",
       "      <th></th>\n",
       "      <th>pclass</th>\n",
       "      <th>survived</th>\n",
       "      <th>name</th>\n",
       "      <th>sex</th>\n",
       "      <th>age</th>\n",
       "      <th>sibsp</th>\n",
       "      <th>parch</th>\n",
       "      <th>ticket</th>\n",
       "      <th>fare</th>\n",
       "      <th>cabin</th>\n",
       "      <th>embarked</th>\n",
       "      <th>boat</th>\n",
       "      <th>body</th>\n",
       "      <th>home.dest</th>\n",
       "    </tr>\n",
       "  </thead>\n",
       "  <tbody>\n",
       "    <tr>\n",
       "      <th>0</th>\n",
       "      <td>1.0</td>\n",
       "      <td>1</td>\n",
       "      <td>Allen, Miss. Elisabeth Walton</td>\n",
       "      <td>female</td>\n",
       "      <td>29.0000</td>\n",
       "      <td>0</td>\n",
       "      <td>0</td>\n",
       "      <td>24160</td>\n",
       "      <td>2113375.0</td>\n",
       "      <td>B5</td>\n",
       "      <td>S</td>\n",
       "      <td>2</td>\n",
       "      <td>NaN</td>\n",
       "      <td>St Louis, MO</td>\n",
       "    </tr>\n",
       "    <tr>\n",
       "      <th>1</th>\n",
       "      <td>1.0</td>\n",
       "      <td>1</td>\n",
       "      <td>Allison, Master. Hudson Trevor</td>\n",
       "      <td>male</td>\n",
       "      <td>0.9167</td>\n",
       "      <td>1</td>\n",
       "      <td>2</td>\n",
       "      <td>113781</td>\n",
       "      <td>1515500.0</td>\n",
       "      <td>C22 C26</td>\n",
       "      <td>S</td>\n",
       "      <td>11</td>\n",
       "      <td>NaN</td>\n",
       "      <td>Montreal, PQ / Chesterville, ON</td>\n",
       "    </tr>\n",
       "    <tr>\n",
       "      <th>2</th>\n",
       "      <td>1.0</td>\n",
       "      <td>0</td>\n",
       "      <td>Allison, Miss. Helen Loraine</td>\n",
       "      <td>female</td>\n",
       "      <td>2.0000</td>\n",
       "      <td>1</td>\n",
       "      <td>2</td>\n",
       "      <td>113781</td>\n",
       "      <td>1515500.0</td>\n",
       "      <td>C22 C26</td>\n",
       "      <td>S</td>\n",
       "      <td>NaN</td>\n",
       "      <td>NaN</td>\n",
       "      <td>Montreal, PQ / Chesterville, ON</td>\n",
       "    </tr>\n",
       "    <tr>\n",
       "      <th>3</th>\n",
       "      <td>1.0</td>\n",
       "      <td>0</td>\n",
       "      <td>Allison, Mr. Hudson Joshua Creighton</td>\n",
       "      <td>male</td>\n",
       "      <td>30.0000</td>\n",
       "      <td>1</td>\n",
       "      <td>2</td>\n",
       "      <td>113781</td>\n",
       "      <td>1515500.0</td>\n",
       "      <td>C22 C26</td>\n",
       "      <td>S</td>\n",
       "      <td>NaN</td>\n",
       "      <td>135.0</td>\n",
       "      <td>Montreal, PQ / Chesterville, ON</td>\n",
       "    </tr>\n",
       "    <tr>\n",
       "      <th>4</th>\n",
       "      <td>1.0</td>\n",
       "      <td>0</td>\n",
       "      <td>Allison, Mrs. Hudson J C (Bessie Waldo Daniels)</td>\n",
       "      <td>female</td>\n",
       "      <td>25.0000</td>\n",
       "      <td>1</td>\n",
       "      <td>2</td>\n",
       "      <td>113781</td>\n",
       "      <td>1515500.0</td>\n",
       "      <td>C22 C26</td>\n",
       "      <td>S</td>\n",
       "      <td>NaN</td>\n",
       "      <td>NaN</td>\n",
       "      <td>Montreal, PQ / Chesterville, ON</td>\n",
       "    </tr>\n",
       "  </tbody>\n",
       "</table>\n",
       "</div>"
      ],
      "text/plain": [
       "   pclass  survived                                             name     sex  \\\n",
       "0     1.0         1                    Allen, Miss. Elisabeth Walton  female   \n",
       "1     1.0         1                   Allison, Master. Hudson Trevor    male   \n",
       "2     1.0         0                     Allison, Miss. Helen Loraine  female   \n",
       "3     1.0         0             Allison, Mr. Hudson Joshua Creighton    male   \n",
       "4     1.0         0  Allison, Mrs. Hudson J C (Bessie Waldo Daniels)  female   \n",
       "\n",
       "       age  sibsp  parch  ticket       fare    cabin embarked boat   body  \\\n",
       "0  29.0000      0      0   24160  2113375.0       B5        S    2    NaN   \n",
       "1   0.9167      1      2  113781  1515500.0  C22 C26        S   11    NaN   \n",
       "2   2.0000      1      2  113781  1515500.0  C22 C26        S  NaN    NaN   \n",
       "3  30.0000      1      2  113781  1515500.0  C22 C26        S  NaN  135.0   \n",
       "4  25.0000      1      2  113781  1515500.0  C22 C26        S  NaN    NaN   \n",
       "\n",
       "                         home.dest  \n",
       "0                     St Louis, MO  \n",
       "1  Montreal, PQ / Chesterville, ON  \n",
       "2  Montreal, PQ / Chesterville, ON  \n",
       "3  Montreal, PQ / Chesterville, ON  \n",
       "4  Montreal, PQ / Chesterville, ON  "
      ]
     },
     "execution_count": 123,
     "metadata": {},
     "output_type": "execute_result"
    }
   ],
   "source": [
    "# Se importa el acrhivo de 'titanic_M1'.\n",
    "\n",
    "data = pd.read_excel(\"C:/Users/alvar/Desktop/IPP/Introducción al Machine Learning/M1/titanic_M1.xlsx\")\n",
    "data.head()"
   ]
  },
  {
   "cell_type": "markdown",
   "id": "b891b85f",
   "metadata": {},
   "source": [
    "a) Describir brevemente la cantidad de valores faltantes para cada una de las  variables de la base de datos."
   ]
  },
  {
   "cell_type": "code",
   "execution_count": 124,
   "id": "a0044920",
   "metadata": {},
   "outputs": [
    {
     "data": {
      "text/plain": [
       "pclass         76\n",
       "survived        0\n",
       "name            0\n",
       "sex             0\n",
       "age           239\n",
       "sibsp           0\n",
       "parch           0\n",
       "ticket          0\n",
       "fare            0\n",
       "cabin         927\n",
       "embarked        2\n",
       "boat          751\n",
       "body         1110\n",
       "home.dest     475\n",
       "dtype: int64"
      ]
     },
     "metadata": {},
     "output_type": "display_data"
    },
    {
     "data": {
      "text/plain": [
       "<AxesSubplot:>"
      ]
     },
     "execution_count": 124,
     "metadata": {},
     "output_type": "execute_result"
    },
    {
     "data": {
      "image/png": "[encoded data removed]",
      "text/plain": [
       "<Figure size 432x288 with 1 Axes>"
      ]
     },
     "metadata": {
      "needs_background": "light"
     },
     "output_type": "display_data"
    }
   ],
   "source": [
    "# Idenficamos los valores faltantes.\n",
    "\n",
    "display(data.isna().sum())\n",
    "sns.heatmap(data.isnull(), cbar=False)"
   ]
  },
  {
   "cell_type": "code",
   "execution_count": 125,
   "id": "8dfe3d62",
   "metadata": {},
   "outputs": [
    {
     "name": "stdout",
     "output_type": "stream",
     "text": [
      "Faltan 76 valores para pclass, 239 para age, 927 para cabin, 2 para embarked, 751 para boat, 1110 para body y 475 para home.dest y sus tipos de datos son: \n"
     ]
    },
    {
     "data": {
      "text/plain": [
       "pclass       float64\n",
       "survived       int64\n",
       "name          object\n",
       "sex           object\n",
       "age          float64\n",
       "sibsp          int64\n",
       "parch          int64\n",
       "ticket        object\n",
       "fare         float64\n",
       "cabin         object\n",
       "embarked      object\n",
       "boat          object\n",
       "body         float64\n",
       "home.dest     object\n",
       "dtype: object"
      ]
     },
     "execution_count": 125,
     "metadata": {},
     "output_type": "execute_result"
    }
   ],
   "source": [
    "print(\"Faltan 76 valores para pclass, 239 para age, 927 para cabin, \\\n",
    "2 para embarked, 751 para boat, 1110 para body y 475 para home.dest \\\n",
    "y sus tipos de datos son: \")\n",
    "\n",
    "data.dtypes"
   ]
  },
  {
   "cell_type": "markdown",
   "id": "188fd19d",
   "metadata": {},
   "source": [
    "b) En la columna Pclass, completar los valores NA, asignando a las personas a la clase 2."
   ]
  },
  {
   "cell_type": "code",
   "execution_count": 126,
   "id": "5224c673",
   "metadata": {},
   "outputs": [
    {
     "data": {
      "text/plain": [
       "3.0    619\n",
       "1.0    323\n",
       "2.0    277\n",
       "Name: pclass, dtype: int64"
      ]
     },
     "execution_count": 126,
     "metadata": {},
     "output_type": "execute_result"
    }
   ],
   "source": [
    "# Se rellenan los valores NA con el valor 2.\n",
    "\n",
    "data['pclass'] = data['pclass'].fillna(2)\n",
    "data['pclass'].value_counts()"
   ]
  },
  {
   "cell_type": "markdown",
   "id": "34293a19",
   "metadata": {},
   "source": [
    "c) En la clase “Sex”, imputar los datos de manera de poder completar la base solo con los valores “male” y “female”."
   ]
  },
  {
   "cell_type": "code",
   "execution_count": 127,
   "id": "36439fa8",
   "metadata": {},
   "outputs": [
    {
     "data": {
      "text/plain": [
       "male      679\n",
       "Mujer     343\n",
       "female    103\n",
       "Hombre     94\n",
       "Name: sex, dtype: int64"
      ]
     },
     "execution_count": 127,
     "metadata": {},
     "output_type": "execute_result"
    }
   ],
   "source": [
    "# Se analizan las categorías del atributo 'sex' y se descubre que posee categorías 'Hombre' y 'Mujer'.\n",
    "\n",
    "data['sex'].value_counts()"
   ]
  },
  {
   "cell_type": "code",
   "execution_count": 128,
   "id": "4f3b57b4",
   "metadata": {},
   "outputs": [
    {
     "data": {
      "text/plain": [
       "male      773\n",
       "female    446\n",
       "Name: sex, dtype: int64"
      ]
     },
     "execution_count": 128,
     "metadata": {},
     "output_type": "execute_result"
    }
   ],
   "source": [
    "# Se reemplazan las categorías 'Hombre' y 'Mujer' con 'male' y 'female', quedando solo estas dos categorías.\n",
    "\n",
    "data = data.replace(\"Hombre\", \"male\").replace(\"Mujer\", \"female\")\n",
    "data['sex'].value_counts()"
   ]
  },
  {
   "cell_type": "markdown",
   "id": "03f5d01a",
   "metadata": {},
   "source": [
    "d) En los casos de las personas de las cuales no se tenga la edad,rellenar los datos con el promedio de edad de aquellos que sí tienen el dato."
   ]
  },
  {
   "cell_type": "code",
   "execution_count": 129,
   "id": "5e9e6a88",
   "metadata": {},
   "outputs": [
    {
     "name": "stdout",
     "output_type": "stream",
     "text": [
      "El promedio de edades es:  30.02627551020408\n"
     ]
    },
    {
     "data": {
      "text/plain": [
       "0       29.000000\n",
       "1        0.916700\n",
       "2        2.000000\n",
       "3       30.000000\n",
       "4       25.000000\n",
       "          ...    \n",
       "1214    30.026276\n",
       "1215    30.026276\n",
       "1216    30.026276\n",
       "1217    19.000000\n",
       "1218    30.000000\n",
       "Name: age, Length: 1219, dtype: float64"
      ]
     },
     "execution_count": 129,
     "metadata": {},
     "output_type": "execute_result"
    }
   ],
   "source": [
    "# Se busca el promedio de las edades para rellenar los valores faltantes de la columna 'Age' con este.\n",
    "\n",
    "mean = data['age'].mean()\n",
    "\n",
    "print('El promedio de edades es: ', mean)\n",
    "\n",
    "data['age'] = data['age'].fillna(mean)\n",
    "data['age']"
   ]
  },
  {
   "cell_type": "markdown",
   "id": "30b30bfe",
   "metadata": {},
   "source": [
    "e) En la columna embarked, asignar el valor “S” a aquellos datos que se encuentran con valor vacío."
   ]
  },
  {
   "cell_type": "code",
   "execution_count": 130,
   "id": "a6f15a4c",
   "metadata": {},
   "outputs": [
    {
     "name": "stdout",
     "output_type": "stream",
     "text": [
      "La cantidad de valores faltantes en 'embarked' es: 2\n"
     ]
    },
    {
     "data": {
      "text/plain": [
       "S    847\n",
       "C    248\n",
       "Q    122\n",
       "Name: embarked, dtype: int64"
      ]
     },
     "execution_count": 130,
     "metadata": {},
     "output_type": "execute_result"
    }
   ],
   "source": [
    "# Se identifican la cantidad de valores faltantes en la columna 'embarked'.\n",
    "na_embarked = data['embarked'].isna().sum()\n",
    "print(f\"La cantidad de valores faltantes en 'embarked' es: {na_embarked}\")\n",
    "\n",
    "# Se identifican los valores de sus distintas categorías.\n",
    "data['embarked'].value_counts()"
   ]
  },
  {
   "cell_type": "code",
   "execution_count": 131,
   "id": "9a8f06b5",
   "metadata": {},
   "outputs": [
    {
     "data": {
      "text/plain": [
       "S    849\n",
       "C    248\n",
       "Q    122\n",
       "Name: embarked, dtype: int64"
      ]
     },
     "execution_count": 131,
     "metadata": {},
     "output_type": "execute_result"
    }
   ],
   "source": [
    "# Se asigna el valor 'S' a los datos faltantes.\n",
    "\n",
    "data['embarked'] = data['embarked'].fillna(\"S\")\n",
    "data['embarked'].value_counts()"
   ]
  },
  {
   "cell_type": "code",
   "execution_count": 132,
   "id": "51cbdb0e",
   "metadata": {},
   "outputs": [
    {
     "data": {
      "text/plain": [
       "pclass          0\n",
       "survived        0\n",
       "name            0\n",
       "sex             0\n",
       "age             0\n",
       "sibsp           0\n",
       "parch           0\n",
       "ticket          0\n",
       "fare            0\n",
       "cabin         927\n",
       "embarked        0\n",
       "boat          751\n",
       "body         1110\n",
       "home.dest     475\n",
       "dtype: int64"
      ]
     },
     "metadata": {},
     "output_type": "display_data"
    },
    {
     "data": {
      "text/plain": [
       "<AxesSubplot:>"
      ]
     },
     "execution_count": 132,
     "metadata": {},
     "output_type": "execute_result"
    },
    {
     "data": {
      "image/png": "[encoded data removed]",
      "text/plain": [
       "<Figure size 432x288 with 1 Axes>"
      ]
     },
     "metadata": {
      "needs_background": "light"
     },
     "output_type": "display_data"
    }
   ],
   "source": [
    "#Se identifican los valores faltantes.\n",
    "\n",
    "display(data.isna().sum())\n",
    "sns.heatmap(data.isnull(), cbar=False)"
   ]
  }
 ],
 "metadata": {
  "kernelspec": {
   "display_name": "Python 3 (ipykernel)",
   "language": "python",
   "name": "python3"
  },
  "language_info": {
   "codemirror_mode": {
    "name": "ipython",
    "version": 3
   },
   "file_extension": ".py",
   "mimetype": "text/x-python",
   "name": "python",
   "nbconvert_exporter": "python",
   "pygments_lexer": "ipython3",
   "version": "3.9.12"
  }
 },
 "nbformat": 4,
 "nbformat_minor": 5
}
